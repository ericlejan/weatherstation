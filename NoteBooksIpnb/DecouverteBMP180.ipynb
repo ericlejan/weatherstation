# Mesurer avec un capteur Press-Hygro-Temp : Adafruit BMP180#

Activité réalisée avec un capteur Adafruit BMP180, une raspberry Pi3 fonctionnant avec une image Debian Stretch fournie par l'IFÉ ENS de Lyon, disposant des librairies INTEL mraa et upm.

## Mesurer puis écrire la température en 6 lignes ##

Chaque ligne de texte ci-dessous est traduite dans le bloc suivant en une instruction dans un langage interprétable par la machine, à chaque alinéa correspond une instruction, la somme des instructions constitue un programme.

 * Demander l'utilisation des outils nécessaires, il sagit de deux bibliothèques de programmes de base qui permettent d'interagir et de piloter les capteurs que nous avons choisis. Le nom de ces bibliothèques est mraa et upm
 * parmi tous les pilotes disponibles nous devons utiliser le pilote pyupm_bmpx8x (py pour python, upm nom de la librairie, _ séparateur, bme280 nom du capteur)
 * Déclarer le nom du capteur qu'on va utiliser (bmp180)
 * Mesurer la température (on utilise la fonction préprogrammée dans le pilote "getTemperature()" on appelle la température tempbmp180)
 * Afficher la température
 
 import mraa, upm
from upm import pyupm_bmpx8x as bmp
bmp180=bmp.BMPX8X(0)
tempbmp180=bmp180.getTemperature()
print ("{0:.2f} °C".format(tempbmp180))
